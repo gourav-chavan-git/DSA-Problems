{
  "cells": [
    {
      "cell_type": "markdown",
      "metadata": {
        "id": "gOtIwnuuZhE0"
      },
      "source": [
        "## `Wap to check if a year is a leap year`"
      ]
    },
    {
      "cell_type": "code",
      "execution_count": 2,
      "metadata": {
        "colab": {
          "base_uri": "https://localhost:8080/"
        },
        "id": "K4af6NwCYoR-",
        "outputId": "121efe38-c38b-4f04-bc5c-e4fa6ab90331"
      },
      "outputs": [
        {
          "name": "stdout",
          "output_type": "stream",
          "text": [
            "Enter a year: 2000\n",
            "2000 is a leap year\n"
          ]
        }
      ],
      "source": [
        "def is_leap_year(year):\n",
        "  if (year%4==0 and year%100!=0) or year%400==0:\n",
        "    return True\n",
        "  else:\n",
        "    return False\n",
        "year= int(input('Enter a year: '))\n",
        "if is_leap_year(year):\n",
        "  print(f'{year} is a leap year')\n",
        "else:\n",
        "  print(f'{year} is not a leap year')"
      ]
    },
    {
      "cell_type": "markdown",
      "metadata": {
        "id": "u-cnyAgVZrdO"
      },
      "source": []
    },
    {
      "cell_type": "code",
      "execution_count": 11,
      "metadata": {
        "colab": {
          "base_uri": "https://localhost:8080/"
        },
        "id": "lZDxPUbaLk05",
        "outputId": "15d4ee9a-2260-4c18-d718-ec5724455b1a"
      },
      "outputs": [
        {
          "name": "stdout",
          "output_type": "stream",
          "text": [
            "Enter your number: -3\n",
            "-3 is negative\n"
          ]
        }
      ],
      "source": [
        "#program to check given number is positive, negative or zero.\n",
        "num = int(input(\"Enter your number: \"))\n",
        "if num >0:\n",
        "  print(f'{num} is positive')\n",
        "elif num == 0:\n",
        "  print(f\"{num} is zero\")\n",
        "else:\n",
        "  print(f'{num} is negative')"
      ]
    },
    {
      "cell_type": "markdown",
      "metadata": {
        "id": "onAgR7MOZedX"
      },
      "source": [
        "## `Wap to find the largest number among three numbers`"
      ]
    },
    {
      "cell_type": "code",
      "execution_count": 4,
      "metadata": {
        "colab": {
          "base_uri": "https://localhost:8080/"
        },
        "id": "uRU4tJAWZZnd",
        "outputId": "34756f9b-e1a6-41d8-b8d7-e8cfc041efda"
      },
      "outputs": [
        {
          "name": "stdout",
          "output_type": "stream",
          "text": [
            "Enter num1, num2, num3 values: 45 78 32\n",
            "The largest number is 78\n"
          ]
        }
      ],
      "source": [
        "def find_largest(num1,num2,num3):\n",
        "  if num1>=num2 and num1>=num3:\n",
        "    return num1\n",
        "  elif num2>=num1 and num2>=num3:\n",
        "    return num2\n",
        "  else:\n",
        "    return num3\n",
        "num1,num2,num3 = map(int, input('Enter num1, num2, num3 values: ').split())\n",
        "largest = find_largest(num1,num2,num3)\n",
        "print(f'The largest number is {largest}')"
      ]
    },
    {
      "cell_type": "markdown",
      "metadata": {
        "id": "QdbEyFc9b2Oe"
      },
      "source": [
        "## `Wap that performs addition, subtraction, multiplication, and division based on user input`"
      ]
    },
    {
      "cell_type": "code",
      "execution_count": 15,
      "metadata": {
        "colab": {
          "base_uri": "https://localhost:8080/"
        },
        "id": "Ly-2Rgsgb4RZ",
        "outputId": "45f57ed2-9145-4be0-d5f5-177b8f552ba0"
      },
      "outputs": [
        {
          "name": "stdout",
          "output_type": "stream",
          "text": [
            "Enter num1 and num2 values: 10 5\n",
            "\n",
            "        Choose following operation ->\n",
            "\n",
            "        1. Enter 1 for Addition \n",
            "\n",
            "        2. Enter 2 for Subtraction \n",
            "\n",
            "        3. Enter 3 for Multiplication \n",
            "\n",
            "        4. Enter 4 for Division \n",
            "\n",
            "\n",
            "         \n",
            "Enter your operation number: 4\n",
            "The division of 10.0 and 5.0 is 2.0\n"
          ]
        }
      ],
      "source": [
        "def calc(num1,num2):\n",
        "  num1,num2= map(float, input('Enter num1 and num2 values: ').split())\n",
        "  menu = '''\n",
        "        Choose following operation ->\n",
        "\n",
        "        1. Enter 1 for Addition \\n\n",
        "        2. Enter 2 for Subtraction \\n\n",
        "        3. Enter 3 for Multiplication \\n\n",
        "        4. Enter 4 for Division \\n\n",
        "\n",
        "         '''\n",
        "  print(menu)\n",
        "  op = int(input('Enter your operation number: '))\n",
        "  if op==1:\n",
        "    result = num1+num2\n",
        "    print(f'The additioin of {num1} and {num2} is {result}')\n",
        "  elif op==2:\n",
        "    result = num1 - num2\n",
        "    print(f'The subtraction of {num1} and {num2} is {num3}')\n",
        "  elif op==3:\n",
        "    result = num1*num2\n",
        "    print(f'The multiplication of {num1} and {num2} is {result}')\n",
        "  elif op==4:\n",
        "    if num2!=0:\n",
        "      result = num1/num2\n",
        "      print(f'The division of {num1} and {num2} is {result}')\n",
        "    else:\n",
        "      print('Error: Division by zero is not possible!')\n",
        "  else:\n",
        "    print('Invalid operation choosen!!')\n",
        "\n",
        "calc(num1,num2)"
      ]
    },
    {
      "cell_type": "markdown",
      "metadata": {
        "id": "mujP_yL2b3Z9"
      },
      "source": [
        "## `Wap that prints \"FizzBuzz\" for numbers divisible by both 3 and 5, \"Fizz\" for numbers divisible by 3, and \"Buzz\" for numbers divisible by 5, for number from 1 to 100.`"
      ]
    },
    {
      "cell_type": "code",
      "execution_count": 17,
      "metadata": {
        "colab": {
          "base_uri": "https://localhost:8080/"
        },
        "id": "F16aRWwcqOwk",
        "outputId": "6f89a797-ec91-4b42-8ad5-197103416ca4"
      },
      "outputs": [
        {
          "name": "stdout",
          "output_type": "stream",
          "text": [
            "1\n",
            "2\n",
            "Fizz\n",
            "4\n",
            "Buzz\n",
            "Fizz\n",
            "7\n",
            "8\n",
            "Fizz\n",
            "Buzz\n",
            "11\n",
            "Fizz\n",
            "13\n",
            "14\n",
            "FizzBuzz\n",
            "16\n",
            "17\n",
            "Fizz\n",
            "19\n",
            "Buzz\n",
            "Fizz\n",
            "22\n",
            "23\n",
            "Fizz\n",
            "Buzz\n",
            "26\n",
            "Fizz\n",
            "28\n",
            "29\n",
            "FizzBuzz\n",
            "31\n",
            "32\n",
            "Fizz\n",
            "34\n",
            "Buzz\n",
            "Fizz\n",
            "37\n",
            "38\n",
            "Fizz\n",
            "Buzz\n",
            "41\n",
            "Fizz\n",
            "43\n",
            "44\n",
            "FizzBuzz\n",
            "46\n",
            "47\n",
            "Fizz\n",
            "49\n",
            "Buzz\n",
            "Fizz\n",
            "52\n",
            "53\n",
            "Fizz\n",
            "Buzz\n",
            "56\n",
            "Fizz\n",
            "58\n",
            "59\n",
            "FizzBuzz\n",
            "61\n",
            "62\n",
            "Fizz\n",
            "64\n",
            "Buzz\n",
            "Fizz\n",
            "67\n",
            "68\n",
            "Fizz\n",
            "Buzz\n",
            "71\n",
            "Fizz\n",
            "73\n",
            "74\n",
            "FizzBuzz\n",
            "76\n",
            "77\n",
            "Fizz\n",
            "79\n",
            "Buzz\n",
            "Fizz\n",
            "82\n",
            "83\n",
            "Fizz\n",
            "Buzz\n",
            "86\n",
            "Fizz\n",
            "88\n",
            "89\n",
            "FizzBuzz\n",
            "91\n",
            "92\n",
            "Fizz\n",
            "94\n",
            "Buzz\n",
            "Fizz\n",
            "97\n",
            "98\n",
            "Fizz\n",
            "Buzz\n"
          ]
        }
      ],
      "source": [
        "for num in range(1,101):\n",
        "  if num%5==0 and num%3==0:\n",
        "    print('FizzBuzz')\n",
        "  elif num%3==0:\n",
        "    print('Fizz')\n",
        "  elif num%5==0:\n",
        "    print('Buzz')\n",
        "  else:\n",
        "    print(num)"
      ]
    },
    {
      "cell_type": "code",
      "execution_count": 20,
      "metadata": {
        "colab": {
          "base_uri": "https://localhost:8080/"
        },
        "id": "6qe6H9OJrUsk",
        "outputId": "2521dffe-7567-40e4-e38d-d15cad33f696"
      },
      "outputs": [
        {
          "name": "stdout",
          "output_type": "stream",
          "text": [
            "Enter your number: 121\n",
            "121 is a palindrome\n"
          ]
        }
      ],
      "source": [
        "def is_palindrome(num):\n",
        "  reversed_num = num[::-1]\n",
        "  return num == reversed_num\n",
        "num = input('Enter your number: ')\n",
        "if is_palindrome(num):\n",
        "  print(f'{num} is a palindrome')\n",
        "else:\n",
        "  print(f'{num} is not a palindrome')"
      ]
    },
    {
      "cell_type": "markdown",
      "metadata": {
        "id": "r4k4dcVhvfQg"
      },
      "source": [
        "## `Wap to calculate BMI and print the corresponding category(Normal,overweight,or obese) based on the BMI value`"
      ]
    },
    {
      "cell_type": "code",
      "execution_count": 22,
      "metadata": {
        "colab": {
          "base_uri": "https://localhost:8080/"
        },
        "id": "dFvbpIJTsMxF",
        "outputId": "72c9c35d-c0dc-4b96-a6c0-b615793f54ac"
      },
      "outputs": [
        {
          "name": "stdout",
          "output_type": "stream",
          "text": [
            "Enter your weight: 70\n",
            "Enter your height: 1.75\n",
            "Your BMI is 22.86, which is considered as Normal Weight\n"
          ]
        }
      ],
      "source": [
        "def bmi_calc(weight,height):\n",
        "  bmi = weight/(height**2)\n",
        "  return bmi\n",
        "def bmi_category(bmi):\n",
        "  if bmi<18.5:\n",
        "    return 'Underweight'\n",
        "  elif bmi>=18.5 and bmi<=24.9:\n",
        "    return 'Normal Weight'\n",
        "  elif bmi>=25 and bmi<=29.9:\n",
        "    return 'Overweight'\n",
        "  else:\n",
        "    return 'Obese'\n",
        "weight = float(input('Enter your weight: '))\n",
        "height = float(input('Enter your height: '))\n",
        "bmi = bmi_calc(weight,height)\n",
        "category = bmi_category(bmi)\n",
        "print(f'Your BMI is {bmi:.2f}, which is considered as {category}')"
      ]
    },
    {
      "cell_type": "code",
      "execution_count": 23,
      "metadata": {
        "colab": {
          "base_uri": "https://localhost:8080/"
        },
        "id": "IeESSyxpvuvG",
        "outputId": "289debc8-cfb1-42dc-95e6-6edffa507adf"
      },
      "outputs": [
        {
          "name": "stdout",
          "output_type": "stream",
          "text": [
            "Enter your number: 7\n",
            "7 is prime number\n"
          ]
        }
      ],
      "source": [
        "def is_prime(num):\n",
        "  if num<=1:\n",
        "    return False\n",
        "  for i in range(2, int(num**0.5) + 1):\n",
        "    if num%i==0:\n",
        "      return False\n",
        "  return True\n",
        "num = int(input('Enter your number: '))\n",
        "if is_prime(num):\n",
        "  print(f\"{num} is prime number\")\n",
        "else:\n",
        "  print(f'{num} is not a prime number')"
      ]
    },
    {
      "cell_type": "code",
      "execution_count": 24,
      "metadata": {
        "colab": {
          "base_uri": "https://localhost:8080/"
        },
        "id": "eLQ-yK6qyRqz",
        "outputId": "61f33ced-1220-4bf7-e854-de2ea62d54bc"
      },
      "outputs": [
        {
          "data": {
            "text/plain": [
              "False"
            ]
          },
          "execution_count": 24,
          "metadata": {},
          "output_type": "execute_result"
        }
      ],
      "source": [
        "is_prime(8)"
      ]
    },
    {
      "cell_type": "code",
      "execution_count": null,
      "metadata": {
        "id": "4OWZ_N3mYARd"
      },
      "outputs": [],
      "source": [
        "#Wap that takes month form jan to dec and a year and returns no. of days in that  month."
      ]
    },
    {
      "cell_type": "markdown",
      "metadata": {
        "id": "QpbsvJAs7_aH"
      },
      "source": [
        "## `Wap to simulate a Rock, Paper, Scissor game between the user and the computer`"
      ]
    },
    {
      "cell_type": "code",
      "execution_count": 30,
      "metadata": {
        "colab": {
          "base_uri": "https://localhost:8080/"
        },
        "id": "3lDPZBVt3x23",
        "outputId": "25e6b25c-1f68-42bb-f24a-41c2189e71ee"
      },
      "outputs": [
        {
          "name": "stdout",
          "output_type": "stream",
          "text": [
            "Your choices: ['rock', 'paper', 'scissor']\n",
            "Enter your choise: rock\n",
            "Your choice is: rock\n",
            "Computer chose: scissor\n",
            "You Win!\n"
          ]
        }
      ],
      "source": [
        "import random\n",
        "def game():\n",
        "  choices = ['rock', 'paper', 'scissor']\n",
        "  print(f'Your choices: {choices}')\n",
        "  user_choice = input('Enter your choise: ')\n",
        "  print(f'Your choice is: {user_choice}')\n",
        "  computer_choice = random.choice(choices)\n",
        "  print(f'Computer chose: {computer_choice}')\n",
        "  if user_choice not in choices:\n",
        "    print('Invalid choice! Please enter rock, paper or scissors')\n",
        "    return\n",
        "  if user_choice == computer_choice:\n",
        "    return \"It's Tie\"\n",
        "  elif (user_choice=='rock' and computer_choice=='scissor') or (user_choice=='paper' and computer_choice=='rock') or (user_choice=='scissor' and computer_choice=='paper'):\n",
        "    return 'You Win!'\n",
        "  else:\n",
        "    return 'You Loose!'\n",
        "print(game())\n"
      ]
    }
  ],
  "metadata": {
    "colab": {
      "provenance": []
    },
    "kernelspec": {
      "display_name": "Python 3",
      "name": "python3"
    },
    "language_info": {
      "name": "python"
    }
  },
  "nbformat": 4,
  "nbformat_minor": 0
}
